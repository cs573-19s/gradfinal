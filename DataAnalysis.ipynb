{
 "cells": [
  {
   "cell_type": "code",
   "execution_count": 62,
   "metadata": {},
   "outputs": [],
   "source": [
    "import pandas as pd\n",
    "import matplotlib.pyplot as plt\n",
    "import numpy as np"
   ]
  },
  {
   "cell_type": "code",
   "execution_count": 63,
   "metadata": {},
   "outputs": [],
   "source": [
    "df = pd.read_csv(\"result.csv\")"
   ]
  },
  {
   "cell_type": "code",
   "execution_count": 64,
   "metadata": {},
   "outputs": [
    {
     "data": {
      "text/html": [
       "<div>\n",
       "<style scoped>\n",
       "    .dataframe tbody tr th:only-of-type {\n",
       "        vertical-align: middle;\n",
       "    }\n",
       "\n",
       "    .dataframe tbody tr th {\n",
       "        vertical-align: top;\n",
       "    }\n",
       "\n",
       "    .dataframe thead th {\n",
       "        text-align: right;\n",
       "    }\n",
       "</style>\n",
       "<table border=\"1\" class=\"dataframe\">\n",
       "  <thead>\n",
       "    <tr style=\"text-align: right;\">\n",
       "      <th></th>\n",
       "      <th>Year</th>\n",
       "      <th>undergraduate</th>\n",
       "      <th>funds</th>\n",
       "      <th>per</th>\n",
       "    </tr>\n",
       "  </thead>\n",
       "  <tbody>\n",
       "    <tr>\n",
       "      <th>0</th>\n",
       "      <td>2017</td>\n",
       "      <td>2753.61</td>\n",
       "      <td>847140.10</td>\n",
       "      <td>9503.31470</td>\n",
       "    </tr>\n",
       "    <tr>\n",
       "      <th>1</th>\n",
       "      <td>2016</td>\n",
       "      <td>2695.86</td>\n",
       "      <td>780069.97</td>\n",
       "      <td>9001.52515</td>\n",
       "    </tr>\n",
       "    <tr>\n",
       "      <th>2</th>\n",
       "      <td>2015</td>\n",
       "      <td>2625.32</td>\n",
       "      <td>722767.87</td>\n",
       "      <td>8579.70013</td>\n",
       "    </tr>\n",
       "    <tr>\n",
       "      <th>3</th>\n",
       "      <td>2014</td>\n",
       "      <td>2547.68</td>\n",
       "      <td>684349.42</td>\n",
       "      <td>8391.11946</td>\n",
       "    </tr>\n",
       "    <tr>\n",
       "      <th>4</th>\n",
       "      <td>2013</td>\n",
       "      <td>2468.06</td>\n",
       "      <td>634345.33</td>\n",
       "      <td>8015.55591</td>\n",
       "    </tr>\n",
       "    <tr>\n",
       "      <th>5</th>\n",
       "      <td>2012</td>\n",
       "      <td>2391.31</td>\n",
       "      <td>576551.84</td>\n",
       "      <td>7496.13730</td>\n",
       "    </tr>\n",
       "    <tr>\n",
       "      <th>6</th>\n",
       "      <td>2011</td>\n",
       "      <td>2308.53</td>\n",
       "      <td>521441.11</td>\n",
       "      <td>6998.71388</td>\n",
       "    </tr>\n",
       "    <tr>\n",
       "      <th>7</th>\n",
       "      <td>2010</td>\n",
       "      <td>2231.78</td>\n",
       "      <td>437041.99</td>\n",
       "      <td>6030.11449</td>\n",
       "    </tr>\n",
       "    <tr>\n",
       "      <th>8</th>\n",
       "      <td>2009</td>\n",
       "      <td>2144.67</td>\n",
       "      <td>365303.69</td>\n",
       "      <td>5222.14174</td>\n",
       "    </tr>\n",
       "    <tr>\n",
       "      <th>9</th>\n",
       "      <td>2008</td>\n",
       "      <td>2021.03</td>\n",
       "      <td>333313.95</td>\n",
       "      <td>5067.39504</td>\n",
       "    </tr>\n",
       "    <tr>\n",
       "      <th>10</th>\n",
       "      <td>2007</td>\n",
       "      <td>1884.91</td>\n",
       "      <td>279737.86</td>\n",
       "      <td>4558.50039</td>\n",
       "    </tr>\n",
       "    <tr>\n",
       "      <th>11</th>\n",
       "      <td>2006</td>\n",
       "      <td>1738.82</td>\n",
       "      <td>232836.74</td>\n",
       "      <td>4116.37230</td>\n",
       "    </tr>\n",
       "    <tr>\n",
       "      <th>12</th>\n",
       "      <td>2005</td>\n",
       "      <td>1561.83</td>\n",
       "      <td>199228.10</td>\n",
       "      <td>3931.59443</td>\n",
       "    </tr>\n",
       "    <tr>\n",
       "      <th>13</th>\n",
       "      <td>2004</td>\n",
       "      <td>1333.48</td>\n",
       "      <td>167922.56</td>\n",
       "      <td>3910.57232</td>\n",
       "    </tr>\n",
       "    <tr>\n",
       "      <th>14</th>\n",
       "      <td>2003</td>\n",
       "      <td>1108.54</td>\n",
       "      <td>139537.19</td>\n",
       "      <td>3943.55971</td>\n",
       "    </tr>\n",
       "    <tr>\n",
       "      <th>15</th>\n",
       "      <td>2002</td>\n",
       "      <td>903.37</td>\n",
       "      <td>120819.30</td>\n",
       "      <td>4201.64930</td>\n",
       "    </tr>\n",
       "    <tr>\n",
       "      <th>16</th>\n",
       "      <td>2001</td>\n",
       "      <td>719.06</td>\n",
       "      <td>108775.71</td>\n",
       "      <td>4717.36939</td>\n",
       "    </tr>\n",
       "    <tr>\n",
       "      <th>17</th>\n",
       "      <td>2000</td>\n",
       "      <td>556.07</td>\n",
       "      <td>98692.60</td>\n",
       "      <td>5560.07227</td>\n",
       "    </tr>\n",
       "    <tr>\n",
       "      <th>18</th>\n",
       "      <td>1999</td>\n",
       "      <td>408.60</td>\n",
       "      <td>88388.05</td>\n",
       "      <td>6851.72258</td>\n",
       "    </tr>\n",
       "    <tr>\n",
       "      <th>19</th>\n",
       "      <td>1998</td>\n",
       "      <td>340.87</td>\n",
       "      <td>82721.51</td>\n",
       "      <td>7597.82923</td>\n",
       "    </tr>\n",
       "    <tr>\n",
       "      <th>20</th>\n",
       "      <td>1997</td>\n",
       "      <td>317.74</td>\n",
       "      <td>76490.20</td>\n",
       "      <td>7493.86788</td>\n",
       "    </tr>\n",
       "    <tr>\n",
       "      <th>21</th>\n",
       "      <td>1996</td>\n",
       "      <td>302.34</td>\n",
       "      <td>67891.78</td>\n",
       "      <td>7009.17348</td>\n",
       "    </tr>\n",
       "    <tr>\n",
       "      <th>22</th>\n",
       "      <td>1995</td>\n",
       "      <td>283.62</td>\n",
       "      <td>57642.07</td>\n",
       "      <td>6033.18269</td>\n",
       "    </tr>\n",
       "    <tr>\n",
       "      <th>23</th>\n",
       "      <td>1994</td>\n",
       "      <td>272.83</td>\n",
       "      <td>45422.75</td>\n",
       "      <td>4996.56572</td>\n",
       "    </tr>\n",
       "    <tr>\n",
       "      <th>24</th>\n",
       "      <td>1993</td>\n",
       "      <td>253.73</td>\n",
       "      <td>34274.92</td>\n",
       "      <td>4165.00344</td>\n",
       "    </tr>\n",
       "  </tbody>\n",
       "</table>\n",
       "</div>"
      ],
      "text/plain": [
       "    Year  undergraduate      funds         per\n",
       "0   2017        2753.61  847140.10  9503.31470\n",
       "1   2016        2695.86  780069.97  9001.52515\n",
       "2   2015        2625.32  722767.87  8579.70013\n",
       "3   2014        2547.68  684349.42  8391.11946\n",
       "4   2013        2468.06  634345.33  8015.55591\n",
       "5   2012        2391.31  576551.84  7496.13730\n",
       "6   2011        2308.53  521441.11  6998.71388\n",
       "7   2010        2231.78  437041.99  6030.11449\n",
       "8   2009        2144.67  365303.69  5222.14174\n",
       "9   2008        2021.03  333313.95  5067.39504\n",
       "10  2007        1884.91  279737.86  4558.50039\n",
       "11  2006        1738.82  232836.74  4116.37230\n",
       "12  2005        1561.83  199228.10  3931.59443\n",
       "13  2004        1333.48  167922.56  3910.57232\n",
       "14  2003        1108.54  139537.19  3943.55971\n",
       "15  2002         903.37  120819.30  4201.64930\n",
       "16  2001         719.06  108775.71  4717.36939\n",
       "17  2000         556.07   98692.60  5560.07227\n",
       "18  1999         408.60   88388.05  6851.72258\n",
       "19  1998         340.87   82721.51  7597.82923\n",
       "20  1997         317.74   76490.20  7493.86788\n",
       "21  1996         302.34   67891.78  7009.17348\n",
       "22  1995         283.62   57642.07  6033.18269\n",
       "23  1994         272.83   45422.75  4996.56572\n",
       "24  1993         253.73   34274.92  4165.00344"
      ]
     },
     "execution_count": 64,
     "metadata": {},
     "output_type": "execute_result"
    }
   ],
   "source": [
    "df"
   ]
  },
  {
   "cell_type": "code",
   "execution_count": 67,
   "metadata": {},
   "outputs": [
    {
     "data": {
      "text/plain": [
       "<matplotlib.axes._subplots.AxesSubplot at 0x119e0cd30>"
      ]
     },
     "execution_count": 67,
     "metadata": {},
     "output_type": "execute_result"
    },
    {
     "data": {
      "image/png": "[encoded data removed]",
      "text/plain": [
       "<Figure size 720x360 with 1 Axes>"
      ]
     },
     "metadata": {},
     "output_type": "display_data"
    }
   ],
   "source": [
    "df.plot(x='Year',y='undergraduate',figsize=(10,5), grid=True)"
   ]
  },
  {
   "cell_type": "code",
   "execution_count": 68,
   "metadata": {},
   "outputs": [
    {
     "data": {
      "text/plain": [
       "<matplotlib.axes._subplots.AxesSubplot at 0x11a136550>"
      ]
     },
     "execution_count": 68,
     "metadata": {},
     "output_type": "execute_result"
    },
    {
     "data": {
      "image/png": "[encoded data removed]",
      "text/plain": [
       "<Figure size 720x360 with 1 Axes>"
      ]
     },
     "metadata": {},
     "output_type": "display_data"
    }
   ],
   "source": [
    "df.plot(x='Year',y='funds',figsize=(10,5), grid=True)"
   ]
  },
  {
   "cell_type": "code",
   "execution_count": 69,
   "metadata": {},
   "outputs": [
    {
     "data": {
      "text/plain": [
       "<matplotlib.axes._subplots.AxesSubplot at 0x11a255c18>"
      ]
     },
     "execution_count": 69,
     "metadata": {},
     "output_type": "execute_result"
    },
    {
     "data": {
      "image/png": "[encoded data removed]",
      "text/plain": [
       "<Figure size 720x360 with 1 Axes>"
      ]
     },
     "metadata": {},
     "output_type": "display_data"
    }
   ],
   "source": [
    "df.plot(x='Year',y='per',figsize=(10,5), grid=True)"
   ]
  },
  {
   "cell_type": "code",
   "execution_count": null,
   "metadata": {},
   "outputs": [],
   "source": []
  },
  {
   "cell_type": "code",
   "execution_count": null,
   "metadata": {},
   "outputs": [],
   "source": []
  }
 ],
 "metadata": {
  "kernelspec": {
   "display_name": "Python 3",
   "language": "python",
   "name": "python3"
  },
  "language_info": {
   "codemirror_mode": {
    "name": "ipython",
    "version": 3
   },
   "file_extension": ".py",
   "mimetype": "text/x-python",
   "name": "python",
   "nbconvert_exporter": "python",
   "pygments_lexer": "ipython3",
   "version": "3.6.5"
  }
 },
 "nbformat": 4,
 "nbformat_minor": 2
}
